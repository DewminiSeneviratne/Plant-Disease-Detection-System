{
 "cells": [
  {
   "cell_type": "code",
   "execution_count": 1,
   "id": "77e92493",
   "metadata": {},
   "outputs": [],
   "source": [
    "import tensorflow as tf\n",
    "from tensorflow.keras import models, layers\n",
    "import matplotlib.pyplot as plt\n",
    "from IPython.display import HTML"
   ]
  },
  {
   "cell_type": "code",
   "execution_count": 2,
   "id": "34629e57",
   "metadata": {},
   "outputs": [],
   "source": [
    "BATCH_SIZE = 32\n",
    "IMAGE_SIZE = 256\n",
    "CHANNELS=3\n",
    "EPOCHS=30"
   ]
  },
  {
   "cell_type": "code",
   "execution_count": 3,
   "id": "b5b8c720",
   "metadata": {},
   "outputs": [
    {
     "name": "stdout",
     "output_type": "stream",
     "text": [
      "Found 2349 files belonging to 2 classes.\n"
     ]
    }
   ],
   "source": [
    "dataset = tf.keras.preprocessing.image_dataset_from_directory(\n",
    "    \"datasets2\",\n",
    "    seed=123,\n",
    "    shuffle=True,\n",
    "    image_size=(IMAGE_SIZE,IMAGE_SIZE),\n",
    "    batch_size=BATCH_SIZE\n",
    ")"
   ]
  },
  {
   "cell_type": "code",
   "execution_count": 4,
   "id": "3bde972a",
   "metadata": {},
   "outputs": [
    {
     "data": {
      "text/plain": [
       "['non-plant', 'plant']"
      ]
     },
     "execution_count": 4,
     "metadata": {},
     "output_type": "execute_result"
    }
   ],
   "source": [
    "class_names = dataset.class_names\n",
    "class_names"
   ]
  },
  {
   "cell_type": "code",
   "execution_count": 5,
   "id": "f54c3f64",
   "metadata": {},
   "outputs": [
    {
     "name": "stdout",
     "output_type": "stream",
     "text": [
      "(32, 256, 256, 3)\n",
      "[0 1 0 1 0 0 0 0 1 1 0 0 0 1 0 1 0 0 1 0 1 1 0 0 1 0 0 0 1 0 0 1]\n"
     ]
    }
   ],
   "source": [
    "for image_batch, labels_batch in dataset.take(1):\n",
    "    print(image_batch.shape)\n",
    "    print(labels_batch.numpy())"
   ]
  },
  {
   "cell_type": "code",
   "execution_count": 6,
   "id": "8c463f9b",
   "metadata": {},
   "outputs": [
    {
     "data": {
      "text/plain": [
       "74"
      ]
     },
     "execution_count": 6,
     "metadata": {},
     "output_type": "execute_result"
    }
   ],
   "source": [
    "len(dataset)"
   ]
  },
  {
   "cell_type": "code",
   "execution_count": 7,
   "id": "dc13a939",
   "metadata": {},
   "outputs": [
    {
     "data": {
      "text/plain": [
       "51.8"
      ]
     },
     "execution_count": 7,
     "metadata": {},
     "output_type": "execute_result"
    }
   ],
   "source": [
    "train_size = 0.7\n",
    "len(dataset)*train_size"
   ]
  },
  {
   "cell_type": "code",
   "execution_count": 8,
   "id": "6c2a78e1",
   "metadata": {},
   "outputs": [
    {
     "data": {
      "text/plain": [
       "51"
      ]
     },
     "execution_count": 8,
     "metadata": {},
     "output_type": "execute_result"
    }
   ],
   "source": [
    "train_ds = dataset.take(51)\n",
    "len(train_ds)"
   ]
  },
  {
   "cell_type": "code",
   "execution_count": 9,
   "id": "e58417ed",
   "metadata": {},
   "outputs": [
    {
     "data": {
      "text/plain": [
       "23"
      ]
     },
     "execution_count": 9,
     "metadata": {},
     "output_type": "execute_result"
    }
   ],
   "source": [
    "test_ds = dataset.skip(51)\n",
    "len(test_ds)"
   ]
  },
  {
   "cell_type": "code",
   "execution_count": 10,
   "id": "eb864126",
   "metadata": {},
   "outputs": [
    {
     "data": {
      "text/plain": [
       "11.1"
      ]
     },
     "execution_count": 10,
     "metadata": {},
     "output_type": "execute_result"
    }
   ],
   "source": [
    "val_size=0.15\n",
    "len(dataset)*val_size"
   ]
  },
  {
   "cell_type": "code",
   "execution_count": 11,
   "id": "4f1e0445",
   "metadata": {},
   "outputs": [
    {
     "data": {
      "text/plain": [
       "11"
      ]
     },
     "execution_count": 11,
     "metadata": {},
     "output_type": "execute_result"
    }
   ],
   "source": [
    "val_ds = test_ds.take(11)\n",
    "len(val_ds)"
   ]
  },
  {
   "cell_type": "code",
   "execution_count": 12,
   "id": "23acc45b",
   "metadata": {},
   "outputs": [
    {
     "data": {
      "text/plain": [
       "12"
      ]
     },
     "execution_count": 12,
     "metadata": {},
     "output_type": "execute_result"
    }
   ],
   "source": [
    "test_ds = test_ds.skip(11)\n",
    "len(test_ds)"
   ]
  },
  {
   "cell_type": "code",
   "execution_count": 13,
   "id": "7144f595",
   "metadata": {},
   "outputs": [],
   "source": [
    "def get_dataset_partitions_tf(ds, train_split=0.7, val_split=0.15, test_split=0.15, shuffle=True, shuffle_size=10000):\n",
    "    assert (train_split + test_split + val_split) == 1\n",
    "    \n",
    "    ds_size = len(ds)\n",
    "    \n",
    "    if shuffle:\n",
    "        ds = ds.shuffle(shuffle_size, seed=12)\n",
    "    \n",
    "    train_size = int(train_split * ds_size)\n",
    "    val_size = int(val_split * ds_size)\n",
    "    \n",
    "    train_ds = ds.take(train_size)    \n",
    "    val_ds = ds.skip(train_size).take(val_size)\n",
    "    test_ds = ds.skip(train_size).skip(val_size)\n",
    "    \n",
    "    return train_ds, val_ds, test_ds"
   ]
  },
  {
   "cell_type": "code",
   "execution_count": 14,
   "id": "3540defa",
   "metadata": {},
   "outputs": [],
   "source": [
    "train_ds, val_ds, test_ds = get_dataset_partitions_tf(dataset)"
   ]
  },
  {
   "cell_type": "code",
   "execution_count": 15,
   "id": "ca0dc928",
   "metadata": {},
   "outputs": [
    {
     "data": {
      "text/plain": [
       "51"
      ]
     },
     "execution_count": 15,
     "metadata": {},
     "output_type": "execute_result"
    }
   ],
   "source": [
    "len(train_ds)"
   ]
  },
  {
   "cell_type": "code",
   "execution_count": 16,
   "id": "530e6b09",
   "metadata": {},
   "outputs": [
    {
     "data": {
      "text/plain": [
       "11"
      ]
     },
     "execution_count": 16,
     "metadata": {},
     "output_type": "execute_result"
    }
   ],
   "source": [
    "len(val_ds)"
   ]
  },
  {
   "cell_type": "code",
   "execution_count": 17,
   "id": "63fac0e8",
   "metadata": {},
   "outputs": [
    {
     "data": {
      "text/plain": [
       "12"
      ]
     },
     "execution_count": 17,
     "metadata": {},
     "output_type": "execute_result"
    }
   ],
   "source": [
    "len(test_ds)"
   ]
  },
  {
   "cell_type": "code",
   "execution_count": 18,
   "id": "7ecfc9da",
   "metadata": {},
   "outputs": [],
   "source": [
    "train_ds = train_ds.cache().shuffle(1000).prefetch(buffer_size=tf.data.AUTOTUNE)\n",
    "val_ds = val_ds.cache().shuffle(1000).prefetch(buffer_size=tf.data.AUTOTUNE)\n",
    "test_ds = test_ds.cache().shuffle(1000).prefetch(buffer_size=tf.data.AUTOTUNE)"
   ]
  },
  {
   "cell_type": "code",
   "execution_count": 19,
   "id": "668d95e2",
   "metadata": {},
   "outputs": [],
   "source": [
    "resize_and_rescale = tf.keras.Sequential([\n",
    "  layers.experimental.preprocessing.Resizing(IMAGE_SIZE, IMAGE_SIZE),\n",
    "  layers.experimental.preprocessing.Rescaling(1./255),\n",
    "])"
   ]
  },
  {
   "cell_type": "code",
   "execution_count": 20,
   "id": "0544b9a3",
   "metadata": {},
   "outputs": [],
   "source": [
    "input_shape = (BATCH_SIZE, IMAGE_SIZE, IMAGE_SIZE, CHANNELS)\n",
    "n_classes = 2\n",
    "\n",
    "model = models.Sequential([\n",
    "    resize_and_rescale,\n",
    "    layers.Conv2D(32, kernel_size = (3,3), activation='relu', input_shape=input_shape),\n",
    "    layers.MaxPooling2D((2, 2)),\n",
    "    layers.Conv2D(64,  kernel_size = (3,3), activation='relu'),\n",
    "    layers.MaxPooling2D((2, 2)),\n",
    "    layers.Conv2D(64,  kernel_size = (3,3), activation='relu'),\n",
    "    layers.MaxPooling2D((2, 2)),\n",
    "    layers.Conv2D(64, (3, 3), activation='relu'),\n",
    "    layers.MaxPooling2D((2, 2)),\n",
    "    layers.Conv2D(64, (3, 3), activation='relu'),\n",
    "    layers.MaxPooling2D((2, 2)),\n",
    "    layers.Conv2D(64, (3, 3), activation='relu'),\n",
    "    layers.MaxPooling2D((2, 2)),\n",
    "    layers.Flatten(),\n",
    "    layers.Dense(64, activation='relu'),\n",
    "    layers.Dense(n_classes, activation='softmax'),\n",
    "])\n",
    "\n",
    "model.build(input_shape=input_shape)"
   ]
  },
  {
   "cell_type": "code",
   "execution_count": 21,
   "id": "f61ab80c",
   "metadata": {},
   "outputs": [
    {
     "name": "stdout",
     "output_type": "stream",
     "text": [
      "Model: \"sequential_1\"\n",
      "_________________________________________________________________\n",
      "Layer (type)                 Output Shape              Param #   \n",
      "=================================================================\n",
      "sequential (Sequential)      (32, 256, 256, 3)         0         \n",
      "_________________________________________________________________\n",
      "conv2d (Conv2D)              (32, 254, 254, 32)        896       \n",
      "_________________________________________________________________\n",
      "max_pooling2d (MaxPooling2D) (32, 127, 127, 32)        0         \n",
      "_________________________________________________________________\n",
      "conv2d_1 (Conv2D)            (32, 125, 125, 64)        18496     \n",
      "_________________________________________________________________\n",
      "max_pooling2d_1 (MaxPooling2 (32, 62, 62, 64)          0         \n",
      "_________________________________________________________________\n",
      "conv2d_2 (Conv2D)            (32, 60, 60, 64)          36928     \n",
      "_________________________________________________________________\n",
      "max_pooling2d_2 (MaxPooling2 (32, 30, 30, 64)          0         \n",
      "_________________________________________________________________\n",
      "conv2d_3 (Conv2D)            (32, 28, 28, 64)          36928     \n",
      "_________________________________________________________________\n",
      "max_pooling2d_3 (MaxPooling2 (32, 14, 14, 64)          0         \n",
      "_________________________________________________________________\n",
      "conv2d_4 (Conv2D)            (32, 12, 12, 64)          36928     \n",
      "_________________________________________________________________\n",
      "max_pooling2d_4 (MaxPooling2 (32, 6, 6, 64)            0         \n",
      "_________________________________________________________________\n",
      "conv2d_5 (Conv2D)            (32, 4, 4, 64)            36928     \n",
      "_________________________________________________________________\n",
      "max_pooling2d_5 (MaxPooling2 (32, 2, 2, 64)            0         \n",
      "_________________________________________________________________\n",
      "flatten (Flatten)            (32, 256)                 0         \n",
      "_________________________________________________________________\n",
      "dense (Dense)                (32, 64)                  16448     \n",
      "_________________________________________________________________\n",
      "dense_1 (Dense)              (32, 2)                   130       \n",
      "=================================================================\n",
      "Total params: 183,682\n",
      "Trainable params: 183,682\n",
      "Non-trainable params: 0\n",
      "_________________________________________________________________\n"
     ]
    }
   ],
   "source": [
    "model.summary()"
   ]
  },
  {
   "cell_type": "code",
   "execution_count": 22,
   "id": "b6e3159b",
   "metadata": {},
   "outputs": [],
   "source": [
    "model.compile(\n",
    "    optimizer='adam',\n",
    "    loss=tf.keras.losses.SparseCategoricalCrossentropy(from_logits=False),\n",
    "    metrics=['accuracy']\n",
    ")"
   ]
  },
  {
   "cell_type": "code",
   "execution_count": 23,
   "id": "5bce593b",
   "metadata": {},
   "outputs": [
    {
     "name": "stdout",
     "output_type": "stream",
     "text": [
      "Epoch 1/30\n",
      "51/51 [==============================] - 184s 3s/step - loss: 0.3245 - accuracy: 0.8171 - val_loss: 0.0297 - val_accuracy: 0.9915\n",
      "Epoch 2/30\n",
      "51/51 [==============================] - 96s 2s/step - loss: 0.0480 - accuracy: 0.9857 - val_loss: 0.0178 - val_accuracy: 0.9886\n",
      "Epoch 3/30\n",
      "51/51 [==============================] - 96s 2s/step - loss: 0.0210 - accuracy: 0.9938 - val_loss: 0.0062 - val_accuracy: 0.9972\n",
      "Epoch 4/30\n",
      "51/51 [==============================] - 104s 2s/step - loss: 0.0128 - accuracy: 0.9969 - val_loss: 0.0473 - val_accuracy: 0.9886\n",
      "Epoch 5/30\n",
      "51/51 [==============================] - 102s 2s/step - loss: 0.0291 - accuracy: 0.9901 - val_loss: 0.0095 - val_accuracy: 0.9943\n",
      "Epoch 6/30\n",
      "51/51 [==============================] - 100s 2s/step - loss: 0.0214 - accuracy: 0.9926 - val_loss: 0.0521 - val_accuracy: 0.9744\n",
      "Epoch 7/30\n",
      "51/51 [==============================] - 102s 2s/step - loss: 0.0133 - accuracy: 0.9975 - val_loss: 0.0064 - val_accuracy: 0.9972\n",
      "Epoch 8/30\n",
      "51/51 [==============================] - 97s 2s/step - loss: 0.0144 - accuracy: 0.9963 - val_loss: 0.0225 - val_accuracy: 0.9886\n",
      "Epoch 9/30\n",
      "51/51 [==============================] - 97s 2s/step - loss: 0.0026 - accuracy: 0.9994 - val_loss: 3.2007e-05 - val_accuracy: 1.0000\n",
      "Epoch 10/30\n",
      "51/51 [==============================] - 99s 2s/step - loss: 1.3219e-04 - accuracy: 1.0000 - val_loss: 8.2369e-05 - val_accuracy: 1.0000\n",
      "Epoch 11/30\n",
      "51/51 [==============================] - 97s 2s/step - loss: 1.3576e-04 - accuracy: 1.0000 - val_loss: 4.5917e-05 - val_accuracy: 1.0000\n",
      "Epoch 12/30\n",
      "51/51 [==============================] - 97s 2s/step - loss: 0.0346 - accuracy: 0.9888 - val_loss: 0.0058 - val_accuracy: 1.0000\n",
      "Epoch 13/30\n",
      "51/51 [==============================] - 97s 2s/step - loss: 0.0403 - accuracy: 0.9870 - val_loss: 0.0274 - val_accuracy: 0.9943\n",
      "Epoch 14/30\n",
      "51/51 [==============================] - 98s 2s/step - loss: 0.0068 - accuracy: 0.9981 - val_loss: 0.0032 - val_accuracy: 0.9972\n",
      "Epoch 15/30\n",
      "51/51 [==============================] - 99s 2s/step - loss: 0.0039 - accuracy: 0.9975 - val_loss: 9.3875e-04 - val_accuracy: 1.0000\n",
      "Epoch 16/30\n",
      "51/51 [==============================] - 100s 2s/step - loss: 0.0049 - accuracy: 0.9981 - val_loss: 0.0385 - val_accuracy: 0.9830\n",
      "Epoch 17/30\n",
      "51/51 [==============================] - 96s 2s/step - loss: 0.0359 - accuracy: 0.9913 - val_loss: 0.0379 - val_accuracy: 0.9858\n",
      "Epoch 18/30\n",
      "51/51 [==============================] - 97s 2s/step - loss: 0.0178 - accuracy: 0.9932 - val_loss: 2.0258e-04 - val_accuracy: 1.0000\n",
      "Epoch 19/30\n",
      "51/51 [==============================] - 96s 2s/step - loss: 7.3403e-04 - accuracy: 1.0000 - val_loss: 6.2006e-05 - val_accuracy: 1.0000\n",
      "Epoch 20/30\n",
      "51/51 [==============================] - 95s 2s/step - loss: 3.8967e-05 - accuracy: 1.0000 - val_loss: 3.3563e-05 - val_accuracy: 1.0000\n",
      "Epoch 21/30\n",
      "51/51 [==============================] - 97s 2s/step - loss: 1.6462e-05 - accuracy: 1.0000 - val_loss: 1.7765e-05 - val_accuracy: 1.0000\n",
      "Epoch 22/30\n",
      "51/51 [==============================] - 97s 2s/step - loss: 1.1164e-05 - accuracy: 1.0000 - val_loss: 1.4590e-05 - val_accuracy: 1.0000\n",
      "Epoch 23/30\n",
      "51/51 [==============================] - 96s 2s/step - loss: 9.0915e-06 - accuracy: 1.0000 - val_loss: 1.1847e-05 - val_accuracy: 1.0000\n",
      "Epoch 24/30\n",
      "51/51 [==============================] - 98s 2s/step - loss: 7.4691e-06 - accuracy: 1.0000 - val_loss: 1.0194e-05 - val_accuracy: 1.0000\n",
      "Epoch 25/30\n",
      "51/51 [==============================] - 99s 2s/step - loss: 6.5199e-06 - accuracy: 1.0000 - val_loss: 9.0528e-06 - val_accuracy: 1.0000\n",
      "Epoch 26/30\n",
      "51/51 [==============================] - 97s 2s/step - loss: 5.6514e-06 - accuracy: 1.0000 - val_loss: 8.1398e-06 - val_accuracy: 1.0000\n",
      "Epoch 27/30\n",
      "51/51 [==============================] - 96s 2s/step - loss: 5.0272e-06 - accuracy: 1.0000 - val_loss: 7.3209e-06 - val_accuracy: 1.0000\n",
      "Epoch 28/30\n",
      "51/51 [==============================] - 98s 2s/step - loss: 4.4852e-06 - accuracy: 1.0000 - val_loss: 6.7182e-06 - val_accuracy: 1.0000\n",
      "Epoch 29/30\n",
      "51/51 [==============================] - 102s 2s/step - loss: 4.1178e-06 - accuracy: 1.0000 - val_loss: 6.0964e-06 - val_accuracy: 1.0000\n",
      "Epoch 30/30\n",
      "51/51 [==============================] - 97s 2s/step - loss: 3.7213e-06 - accuracy: 1.0000 - val_loss: 5.6524e-06 - val_accuracy: 1.0000\n"
     ]
    }
   ],
   "source": [
    "history = model.fit(\n",
    "    train_ds,\n",
    "    batch_size=BATCH_SIZE,\n",
    "    validation_data=val_ds,\n",
    "    verbose=1,\n",
    "    epochs=30,\n",
    ")"
   ]
  },
  {
   "cell_type": "code",
   "execution_count": 24,
   "id": "5fc09bfc",
   "metadata": {},
   "outputs": [
    {
     "name": "stdout",
     "output_type": "stream",
     "text": [
      "12/12 [==============================] - 52s 616ms/step - loss: 4.3846e-06 - accuracy: 1.0000\n"
     ]
    }
   ],
   "source": [
    "scores = model.evaluate(test_ds)"
   ]
  },
  {
   "cell_type": "code",
   "execution_count": 25,
   "id": "df349762",
   "metadata": {},
   "outputs": [
    {
     "name": "stdout",
     "output_type": "stream",
     "text": [
      "INFO:tensorflow:Assets written to: C:/Users/ASUS/Documents/models/modelPreProcess\\assets\n"
     ]
    }
   ],
   "source": [
    "import os\n",
    "model.save(f\"C:/Users/ASUS/Documents/models/modelPreProcess\")"
   ]
  },
  {
   "cell_type": "code",
   "execution_count": null,
   "id": "74efca49",
   "metadata": {},
   "outputs": [],
   "source": []
  }
 ],
 "metadata": {
  "kernelspec": {
   "display_name": "Python 3 (ipykernel)",
   "language": "python",
   "name": "python3"
  },
  "language_info": {
   "codemirror_mode": {
    "name": "ipython",
    "version": 3
   },
   "file_extension": ".py",
   "mimetype": "text/x-python",
   "name": "python",
   "nbconvert_exporter": "python",
   "pygments_lexer": "ipython3",
   "version": "3.9.13"
  }
 },
 "nbformat": 4,
 "nbformat_minor": 5
}
