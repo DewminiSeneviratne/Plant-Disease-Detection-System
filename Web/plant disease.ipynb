{
 "cells": [
  {
   "cell_type": "markdown",
   "id": "510215b1",
   "metadata": {},
   "source": [
    "Import all the Dependencies"
   ]
  },
  {
   "cell_type": "code",
   "execution_count": 1,
   "id": "70d6d81f",
   "metadata": {},
   "outputs": [],
   "source": [
    "import tensorflow as tf\n",
    "from tensorflow.keras import models, layers\n",
    "import matplotlib.pyplot as plt\n",
    "from IPython.display import HTML"
   ]
  },
  {
   "cell_type": "markdown",
   "id": "3ff41df5",
   "metadata": {},
   "source": [
    "Set all the Constants"
   ]
  },
  {
   "cell_type": "code",
   "execution_count": 2,
   "id": "f67e2680",
   "metadata": {},
   "outputs": [],
   "source": [
    "BATCH_SIZE = 32\n",
    "IMAGE_SIZE = 256\n",
    "CHANNELS=3\n",
    "EPOCHS=50"
   ]
  },
  {
   "cell_type": "markdown",
   "id": "f9d5f809",
   "metadata": {},
   "source": [
    "Import data into tensorflow dataset object"
   ]
  },
  {
   "cell_type": "code",
   "execution_count": 3,
   "id": "b5d6b593",
   "metadata": {},
   "outputs": [
    {
     "name": "stdout",
     "output_type": "stream",
     "text": [
      "Found 14000 files belonging to 14 classes.\n"
     ]
    }
   ],
   "source": [
    "dataset = tf.keras.preprocessing.image_dataset_from_directory(\n",
    "    \"datasets\",\n",
    "    seed=123,\n",
    "    shuffle=True,\n",
    "    image_size=(IMAGE_SIZE,IMAGE_SIZE),\n",
    "    batch_size=BATCH_SIZE\n",
    ")"
   ]
  },
  {
   "cell_type": "code",
   "execution_count": 4,
   "id": "9bd85793",
   "metadata": {},
   "outputs": [
    {
     "data": {
      "text/plain": [
       "['Bacterial Spot of Tomato',\n",
       " 'Black Rot of Grapes',\n",
       " 'Common Rust in Corn',\n",
       " 'Corn Healthy Leaf',\n",
       " 'Early Blight of Potato',\n",
       " 'Early Blight of Tomato',\n",
       " 'Esca (Black Measles) of Grapes',\n",
       " 'Grape Healthy Leaf',\n",
       " 'Late Blight of Potato',\n",
       " 'Late Blight of Tomato',\n",
       " 'Nothern Corn Leaf Blight',\n",
       " 'Potato Healthy Leaf',\n",
       " 'Tomato Healthy Leaf',\n",
       " 'Tomato Yellow Leaf Curl Virus (TYLCV)']"
      ]
     },
     "execution_count": 4,
     "metadata": {},
     "output_type": "execute_result"
    }
   ],
   "source": [
    "class_names = dataset.class_names\n",
    "class_names"
   ]
  },
  {
   "cell_type": "code",
   "execution_count": 5,
   "id": "b0389964",
   "metadata": {
    "scrolled": true
   },
   "outputs": [
    {
     "name": "stdout",
     "output_type": "stream",
     "text": [
      "(32, 256, 256, 3)\n",
      "[ 2  7  2 12 10 13 13  3  5  5 13  2  4 10 11  6  7 13  3  2  3  1  8  2\n",
      " 10  5 13  5  0  7  2 12]\n"
     ]
    }
   ],
   "source": [
    "for image_batch, labels_batch in dataset.take(1):\n",
    "    print(image_batch.shape)\n",
    "    print(labels_batch.numpy())"
   ]
  },
  {
   "cell_type": "markdown",
   "id": "dd8a3090",
   "metadata": {},
   "source": [
    "Function to Split Dataset\n",
    "\n",
    "1. Training: Dataset to be used while training\n",
    "2. Validation: Dataset to be tested against while training\n",
    "3. Test: Dataset to be tested against after we trained a model"
   ]
  },
  {
   "cell_type": "markdown",
   "id": "f06ce93e",
   "metadata": {},
   "source": [
    "no of images/batch size"
   ]
  },
  {
   "cell_type": "code",
   "execution_count": 6,
   "id": "d34ec64d",
   "metadata": {},
   "outputs": [
    {
     "data": {
      "text/plain": [
       "438"
      ]
     },
     "execution_count": 6,
     "metadata": {},
     "output_type": "execute_result"
    }
   ],
   "source": [
    "len(dataset)"
   ]
  },
  {
   "cell_type": "code",
   "execution_count": 7,
   "id": "3240289a",
   "metadata": {},
   "outputs": [
    {
     "data": {
      "text/plain": [
       "306.59999999999997"
      ]
     },
     "execution_count": 7,
     "metadata": {},
     "output_type": "execute_result"
    }
   ],
   "source": [
    "train_size = 0.7\n",
    "len(dataset)*train_size"
   ]
  },
  {
   "cell_type": "code",
   "execution_count": 8,
   "id": "e47f11b4",
   "metadata": {},
   "outputs": [
    {
     "data": {
      "text/plain": [
       "306"
      ]
     },
     "execution_count": 8,
     "metadata": {},
     "output_type": "execute_result"
    }
   ],
   "source": [
    "train_ds = dataset.take(306)\n",
    "len(train_ds)"
   ]
  },
  {
   "cell_type": "code",
   "execution_count": 9,
   "id": "d988bec4",
   "metadata": {},
   "outputs": [
    {
     "data": {
      "text/plain": [
       "132"
      ]
     },
     "execution_count": 9,
     "metadata": {},
     "output_type": "execute_result"
    }
   ],
   "source": [
    "test_ds = dataset.skip(306)\n",
    "len(test_ds)"
   ]
  },
  {
   "cell_type": "code",
   "execution_count": 10,
   "id": "717af6fc",
   "metadata": {},
   "outputs": [
    {
     "data": {
      "text/plain": [
       "65.7"
      ]
     },
     "execution_count": 10,
     "metadata": {},
     "output_type": "execute_result"
    }
   ],
   "source": [
    "val_size=0.15\n",
    "len(dataset)*val_size"
   ]
  },
  {
   "cell_type": "code",
   "execution_count": 11,
   "id": "679636fc",
   "metadata": {},
   "outputs": [
    {
     "data": {
      "text/plain": [
       "65"
      ]
     },
     "execution_count": 11,
     "metadata": {},
     "output_type": "execute_result"
    }
   ],
   "source": [
    "val_ds = test_ds.take(65)\n",
    "len(val_ds)"
   ]
  },
  {
   "cell_type": "code",
   "execution_count": 12,
   "id": "3c549783",
   "metadata": {},
   "outputs": [
    {
     "data": {
      "text/plain": [
       "67"
      ]
     },
     "execution_count": 12,
     "metadata": {},
     "output_type": "execute_result"
    }
   ],
   "source": [
    "test_ds = test_ds.skip(65)\n",
    "len(test_ds)"
   ]
  },
  {
   "cell_type": "code",
   "execution_count": 13,
   "id": "cb438e63",
   "metadata": {},
   "outputs": [],
   "source": [
    "def get_dataset_partitions_tf(ds, train_split=0.7, val_split=0.15, test_split=0.15, shuffle=True, shuffle_size=10000):\n",
    "    assert (train_split + test_split + val_split) == 1\n",
    "    \n",
    "    ds_size = len(ds)\n",
    "    \n",
    "    if shuffle:\n",
    "        ds = ds.shuffle(shuffle_size, seed=12)\n",
    "    \n",
    "    train_size = int(train_split * ds_size)\n",
    "    val_size = int(val_split * ds_size)\n",
    "    \n",
    "    train_ds = ds.take(train_size)    \n",
    "    val_ds = ds.skip(train_size).take(val_size)\n",
    "    test_ds = ds.skip(train_size).skip(val_size)\n",
    "    \n",
    "    return train_ds, val_ds, test_ds"
   ]
  },
  {
   "cell_type": "code",
   "execution_count": 14,
   "id": "5c8539cf",
   "metadata": {},
   "outputs": [],
   "source": [
    "train_ds, val_ds, test_ds = get_dataset_partitions_tf(dataset)"
   ]
  },
  {
   "cell_type": "code",
   "execution_count": 15,
   "id": "f6f526dd",
   "metadata": {},
   "outputs": [
    {
     "data": {
      "text/plain": [
       "306"
      ]
     },
     "execution_count": 15,
     "metadata": {},
     "output_type": "execute_result"
    }
   ],
   "source": [
    "len(train_ds)"
   ]
  },
  {
   "cell_type": "code",
   "execution_count": 16,
   "id": "8210030a",
   "metadata": {},
   "outputs": [
    {
     "data": {
      "text/plain": [
       "65"
      ]
     },
     "execution_count": 16,
     "metadata": {},
     "output_type": "execute_result"
    }
   ],
   "source": [
    "len(val_ds)"
   ]
  },
  {
   "cell_type": "code",
   "execution_count": 17,
   "id": "7b862fd1",
   "metadata": {},
   "outputs": [
    {
     "data": {
      "text/plain": [
       "67"
      ]
     },
     "execution_count": 17,
     "metadata": {},
     "output_type": "execute_result"
    }
   ],
   "source": [
    "len(test_ds)"
   ]
  },
  {
   "cell_type": "markdown",
   "id": "bf9aca06",
   "metadata": {},
   "source": [
    "Cache, Shuffle and Prefetch the Dataset"
   ]
  },
  {
   "cell_type": "code",
   "execution_count": 18,
   "id": "0cbadafe",
   "metadata": {},
   "outputs": [],
   "source": [
    "train_ds = train_ds.cache().shuffle(1000).prefetch(buffer_size=tf.data.AUTOTUNE)\n",
    "val_ds = val_ds.cache().shuffle(1000).prefetch(buffer_size=tf.data.AUTOTUNE)\n",
    "test_ds = test_ds.cache().shuffle(1000).prefetch(buffer_size=tf.data.AUTOTUNE)"
   ]
  },
  {
   "cell_type": "markdown",
   "id": "b54b0401",
   "metadata": {},
   "source": [
    "__Creating a Layer for Resizing and Normalization__ <br>\n",
    "Before feed images to network, they should be resizing to the desired size. \n",
    "Moreover, to improve model performance, it should normalize the image pixel value (keeping them in range 0 and 1 by dividing by 256).\n",
    "This should happen while training as well as inference. Hence that can add as a layer in Sequential Model.\n",
    "\n",
    "This will be useful when done with the training and start using the model for predictions. \n",
    "At that time somone can supply an image that is not (256,256) and this layer will resize it"
   ]
  },
  {
   "cell_type": "code",
   "execution_count": 19,
   "id": "b2fe5e31",
   "metadata": {},
   "outputs": [],
   "source": [
    "resize_and_rescale = tf.keras.Sequential([\n",
    "  layers.experimental.preprocessing.Resizing(IMAGE_SIZE, IMAGE_SIZE),\n",
    "  layers.experimental.preprocessing.Rescaling(1./255),\n",
    "])"
   ]
  },
  {
   "cell_type": "markdown",
   "id": "051ae339",
   "metadata": {},
   "source": [
    "__Model Architecture__\n",
    "<br>\n",
    "Used a CNN coupled with a Softmax activation in the output layer. \n",
    "Initial layers for resizing and normalization."
   ]
  },
  {
   "cell_type": "code",
   "execution_count": 20,
   "id": "76ca841d",
   "metadata": {},
   "outputs": [],
   "source": [
    "input_shape = (BATCH_SIZE, IMAGE_SIZE, IMAGE_SIZE, CHANNELS)\n",
    "n_classes = 14\n",
    "\n",
    "model = models.Sequential([\n",
    "    resize_and_rescale,\n",
    "    layers.Conv2D(32, kernel_size = (3,3), activation='relu', input_shape=input_shape),\n",
    "    layers.MaxPooling2D((2, 2)),\n",
    "    layers.Conv2D(64,  kernel_size = (3,3), activation='relu'),\n",
    "    layers.MaxPooling2D((2, 2)),\n",
    "    layers.Conv2D(64,  kernel_size = (3,3), activation='relu'),\n",
    "    layers.MaxPooling2D((2, 2)),\n",
    "    layers.Conv2D(64, (3, 3), activation='relu'),\n",
    "    layers.MaxPooling2D((2, 2)),\n",
    "    layers.Conv2D(64, (3, 3), activation='relu'),\n",
    "    layers.MaxPooling2D((2, 2)),\n",
    "    layers.Conv2D(64, (3, 3), activation='relu'),\n",
    "    layers.MaxPooling2D((2, 2)),\n",
    "    layers.Flatten(),\n",
    "    layers.Dense(64, activation='relu'),\n",
    "    layers.Dense(n_classes, activation='softmax'),\n",
    "])\n",
    "\n",
    "model.build(input_shape=input_shape)"
   ]
  },
  {
   "cell_type": "code",
   "execution_count": 21,
   "id": "1d32cfc1",
   "metadata": {},
   "outputs": [
    {
     "name": "stdout",
     "output_type": "stream",
     "text": [
      "Model: \"sequential_1\"\n",
      "_________________________________________________________________\n",
      "Layer (type)                 Output Shape              Param #   \n",
      "=================================================================\n",
      "sequential (Sequential)      (32, 256, 256, 3)         0         \n",
      "_________________________________________________________________\n",
      "conv2d (Conv2D)              (32, 254, 254, 32)        896       \n",
      "_________________________________________________________________\n",
      "max_pooling2d (MaxPooling2D) (32, 127, 127, 32)        0         \n",
      "_________________________________________________________________\n",
      "conv2d_1 (Conv2D)            (32, 125, 125, 64)        18496     \n",
      "_________________________________________________________________\n",
      "max_pooling2d_1 (MaxPooling2 (32, 62, 62, 64)          0         \n",
      "_________________________________________________________________\n",
      "conv2d_2 (Conv2D)            (32, 60, 60, 64)          36928     \n",
      "_________________________________________________________________\n",
      "max_pooling2d_2 (MaxPooling2 (32, 30, 30, 64)          0         \n",
      "_________________________________________________________________\n",
      "conv2d_3 (Conv2D)            (32, 28, 28, 64)          36928     \n",
      "_________________________________________________________________\n",
      "max_pooling2d_3 (MaxPooling2 (32, 14, 14, 64)          0         \n",
      "_________________________________________________________________\n",
      "conv2d_4 (Conv2D)            (32, 12, 12, 64)          36928     \n",
      "_________________________________________________________________\n",
      "max_pooling2d_4 (MaxPooling2 (32, 6, 6, 64)            0         \n",
      "_________________________________________________________________\n",
      "conv2d_5 (Conv2D)            (32, 4, 4, 64)            36928     \n",
      "_________________________________________________________________\n",
      "max_pooling2d_5 (MaxPooling2 (32, 2, 2, 64)            0         \n",
      "_________________________________________________________________\n",
      "flatten (Flatten)            (32, 256)                 0         \n",
      "_________________________________________________________________\n",
      "dense (Dense)                (32, 64)                  16448     \n",
      "_________________________________________________________________\n",
      "dense_1 (Dense)              (32, 14)                  910       \n",
      "=================================================================\n",
      "Total params: 184,462\n",
      "Trainable params: 184,462\n",
      "Non-trainable params: 0\n",
      "_________________________________________________________________\n"
     ]
    }
   ],
   "source": [
    "model.summary()"
   ]
  },
  {
   "cell_type": "markdown",
   "id": "e86cf9fb",
   "metadata": {},
   "source": [
    "Compiling the Model\n",
    "\n",
    "`adam` Optimizer,\n",
    "`SparseCategoricalCrossentropy` for losses, \n",
    "`accuracy` as a metric"
   ]
  },
  {
   "cell_type": "code",
   "execution_count": 22,
   "id": "87b6a0ee",
   "metadata": {},
   "outputs": [],
   "source": [
    "model.compile(\n",
    "    optimizer='adam',\n",
    "    loss=tf.keras.losses.SparseCategoricalCrossentropy(from_logits=False),\n",
    "    metrics=['accuracy']\n",
    ")"
   ]
  },
  {
   "cell_type": "code",
   "execution_count": 23,
   "id": "52a836e6",
   "metadata": {},
   "outputs": [
    {
     "name": "stdout",
     "output_type": "stream",
     "text": [
      "Epoch 1/50\n",
      "306/306 [==============================] - 558s 2s/step - loss: 1.6750 - accuracy: 0.4270 - val_loss: 0.8010 - val_accuracy: 0.7091\n",
      "Epoch 2/50\n",
      "306/306 [==============================] - 489s 2s/step - loss: 0.6774 - accuracy: 0.7630 - val_loss: 0.6085 - val_accuracy: 0.7928\n",
      "Epoch 3/50\n",
      "306/306 [==============================] - 483s 2s/step - loss: 0.4541 - accuracy: 0.8404 - val_loss: 0.3456 - val_accuracy: 0.8798\n",
      "Epoch 4/50\n",
      "306/306 [==============================] - 484s 2s/step - loss: 0.3289 - accuracy: 0.8816 - val_loss: 0.4142 - val_accuracy: 0.8591\n",
      "Epoch 5/50\n",
      "306/306 [==============================] - 479s 2s/step - loss: 0.2875 - accuracy: 0.8977 - val_loss: 0.3089 - val_accuracy: 0.8966\n",
      "Epoch 6/50\n",
      "306/306 [==============================] - 484s 2s/step - loss: 0.2159 - accuracy: 0.9208 - val_loss: 0.1955 - val_accuracy: 0.9308\n",
      "Epoch 7/50\n",
      "306/306 [==============================] - 483s 2s/step - loss: 0.1979 - accuracy: 0.9295 - val_loss: 0.2550 - val_accuracy: 0.9120\n",
      "Epoch 8/50\n",
      "306/306 [==============================] - 484s 2s/step - loss: 0.1809 - accuracy: 0.9364 - val_loss: 0.1661 - val_accuracy: 0.9476\n",
      "Epoch 9/50\n",
      "306/306 [==============================] - 483s 2s/step - loss: 0.1434 - accuracy: 0.9532 - val_loss: 0.1862 - val_accuracy: 0.9356\n",
      "Epoch 10/50\n",
      "306/306 [==============================] - 479s 2s/step - loss: 0.1309 - accuracy: 0.9544 - val_loss: 0.1117 - val_accuracy: 0.9615\n",
      "Epoch 11/50\n",
      "306/306 [==============================] - 481s 2s/step - loss: 0.0931 - accuracy: 0.9679 - val_loss: 0.1139 - val_accuracy: 0.9635\n",
      "Epoch 12/50\n",
      "306/306 [==============================] - 478s 2s/step - loss: 0.0959 - accuracy: 0.9667 - val_loss: 0.3955 - val_accuracy: 0.8692\n",
      "Epoch 13/50\n",
      "306/306 [==============================] - 478s 2s/step - loss: 0.1145 - accuracy: 0.9603 - val_loss: 0.1105 - val_accuracy: 0.9659\n",
      "Epoch 14/50\n",
      "306/306 [==============================] - 494s 2s/step - loss: 0.1075 - accuracy: 0.9644 - val_loss: 0.1876 - val_accuracy: 0.9380\n",
      "Epoch 15/50\n",
      "306/306 [==============================] - 481s 2s/step - loss: 0.0487 - accuracy: 0.9830 - val_loss: 0.1377 - val_accuracy: 0.9587\n",
      "Epoch 16/50\n",
      "306/306 [==============================] - 483s 2s/step - loss: 0.0688 - accuracy: 0.9743 - val_loss: 0.2222 - val_accuracy: 0.9351\n",
      "Epoch 17/50\n",
      "306/306 [==============================] - 480s 2s/step - loss: 0.0819 - accuracy: 0.9708 - val_loss: 0.1077 - val_accuracy: 0.9692\n",
      "Epoch 18/50\n",
      "306/306 [==============================] - 555s 2s/step - loss: 0.0521 - accuracy: 0.9827 - val_loss: 0.2706 - val_accuracy: 0.9317\n",
      "Epoch 19/50\n",
      "306/306 [==============================] - 533s 2s/step - loss: 0.0922 - accuracy: 0.9674 - val_loss: 0.0942 - val_accuracy: 0.9726\n",
      "Epoch 20/50\n",
      "306/306 [==============================] - 491s 2s/step - loss: 0.0620 - accuracy: 0.9790 - val_loss: 0.1214 - val_accuracy: 0.9635\n",
      "Epoch 21/50\n",
      "306/306 [==============================] - 488s 2s/step - loss: 0.0552 - accuracy: 0.9815 - val_loss: 0.0840 - val_accuracy: 0.9707\n",
      "Epoch 22/50\n",
      "306/306 [==============================] - 625s 2s/step - loss: 0.0706 - accuracy: 0.9747 - val_loss: 0.1717 - val_accuracy: 0.9514\n",
      "Epoch 23/50\n",
      "306/306 [==============================] - 649s 2s/step - loss: 0.0553 - accuracy: 0.9812 - val_loss: 0.1414 - val_accuracy: 0.9567\n",
      "Epoch 24/50\n",
      "306/306 [==============================] - 487s 2s/step - loss: 0.0521 - accuracy: 0.9814 - val_loss: 0.1319 - val_accuracy: 0.9630\n",
      "Epoch 25/50\n",
      "306/306 [==============================] - 489s 2s/step - loss: 0.0191 - accuracy: 0.9935 - val_loss: 0.1226 - val_accuracy: 0.9692\n",
      "Epoch 26/50\n",
      "306/306 [==============================] - 489s 2s/step - loss: 0.0667 - accuracy: 0.9767 - val_loss: 0.1251 - val_accuracy: 0.9654\n",
      "Epoch 27/50\n",
      "306/306 [==============================] - 492s 2s/step - loss: 0.0617 - accuracy: 0.9802 - val_loss: 0.0895 - val_accuracy: 0.9745\n",
      "Epoch 28/50\n",
      "306/306 [==============================] - 497s 2s/step - loss: 0.0201 - accuracy: 0.9934 - val_loss: 0.5987 - val_accuracy: 0.8514\n",
      "Epoch 29/50\n",
      "306/306 [==============================] - 491s 2s/step - loss: 0.0539 - accuracy: 0.9826 - val_loss: 0.1384 - val_accuracy: 0.9707\n",
      "Epoch 30/50\n",
      "306/306 [==============================] - 486s 2s/step - loss: 0.0347 - accuracy: 0.9880 - val_loss: 0.1451 - val_accuracy: 0.9639\n",
      "Epoch 31/50\n",
      "306/306 [==============================] - 496s 2s/step - loss: 0.0401 - accuracy: 0.9866 - val_loss: 0.1320 - val_accuracy: 0.9731\n",
      "Epoch 32/50\n",
      "306/306 [==============================] - 488s 2s/step - loss: 0.0435 - accuracy: 0.9870 - val_loss: 0.2269 - val_accuracy: 0.9510\n",
      "Epoch 33/50\n",
      "306/306 [==============================] - 495s 2s/step - loss: 0.0397 - accuracy: 0.9873 - val_loss: 0.1968 - val_accuracy: 0.9481\n",
      "Epoch 34/50\n",
      "306/306 [==============================] - 492s 2s/step - loss: 0.0287 - accuracy: 0.9912 - val_loss: 0.0938 - val_accuracy: 0.9788\n",
      "Epoch 35/50\n",
      "306/306 [==============================] - 488s 2s/step - loss: 0.0506 - accuracy: 0.9835 - val_loss: 0.1120 - val_accuracy: 0.9683\n",
      "Epoch 36/50\n",
      "306/306 [==============================] - 497s 2s/step - loss: 0.0458 - accuracy: 0.9855 - val_loss: 0.1628 - val_accuracy: 0.9611\n",
      "Epoch 37/50\n",
      "306/306 [==============================] - 493s 2s/step - loss: 0.0222 - accuracy: 0.9918 - val_loss: 0.3062 - val_accuracy: 0.9332\n",
      "Epoch 38/50\n",
      "306/306 [==============================] - 494s 2s/step - loss: 0.0399 - accuracy: 0.9857 - val_loss: 0.1189 - val_accuracy: 0.9745\n",
      "Epoch 39/50\n",
      "306/306 [==============================] - 493s 2s/step - loss: 0.0345 - accuracy: 0.9884 - val_loss: 0.0997 - val_accuracy: 0.9736\n",
      "Epoch 40/50\n",
      "306/306 [==============================] - 492s 2s/step - loss: 0.0389 - accuracy: 0.9889 - val_loss: 0.0973 - val_accuracy: 0.9740\n",
      "Epoch 41/50\n",
      "306/306 [==============================] - 631s 2s/step - loss: 0.0173 - accuracy: 0.9944 - val_loss: 0.1215 - val_accuracy: 0.9688\n",
      "Epoch 42/50\n",
      "306/306 [==============================] - 856s 3s/step - loss: 0.0320 - accuracy: 0.9882 - val_loss: 0.1272 - val_accuracy: 0.9688\n",
      "Epoch 43/50\n",
      "306/306 [==============================] - 862s 3s/step - loss: 0.0232 - accuracy: 0.9927 - val_loss: 0.1832 - val_accuracy: 0.9601\n",
      "Epoch 44/50\n",
      "306/306 [==============================] - 683s 2s/step - loss: 0.0450 - accuracy: 0.9858 - val_loss: 0.2123 - val_accuracy: 0.9486\n",
      "Epoch 45/50\n",
      "306/306 [==============================] - 492s 2s/step - loss: 0.0362 - accuracy: 0.9884 - val_loss: 0.1418 - val_accuracy: 0.9630\n",
      "Epoch 46/50\n",
      "306/306 [==============================] - 493s 2s/step - loss: 0.0314 - accuracy: 0.9895 - val_loss: 0.2134 - val_accuracy: 0.9567\n",
      "Epoch 47/50\n",
      "306/306 [==============================] - 495s 2s/step - loss: 0.0465 - accuracy: 0.9865 - val_loss: 0.0926 - val_accuracy: 0.9769\n",
      "Epoch 48/50\n",
      "306/306 [==============================] - 497s 2s/step - loss: 0.0120 - accuracy: 0.9958 - val_loss: 0.1095 - val_accuracy: 0.9750\n",
      "Epoch 49/50\n",
      "306/306 [==============================] - 498s 2s/step - loss: 0.0016 - accuracy: 0.9997 - val_loss: 0.1009 - val_accuracy: 0.9817\n",
      "Epoch 50/50\n",
      "306/306 [==============================] - 492s 2s/step - loss: 2.2609e-04 - accuracy: 1.0000 - val_loss: 0.0986 - val_accuracy: 0.9817\n"
     ]
    }
   ],
   "source": [
    "history = model.fit(\n",
    "    train_ds,\n",
    "    batch_size=BATCH_SIZE,\n",
    "    validation_data=val_ds,\n",
    "    verbose=1,\n",
    "    epochs=50,\n",
    ")"
   ]
  },
  {
   "cell_type": "code",
   "execution_count": 24,
   "id": "9c38b0fa",
   "metadata": {},
   "outputs": [
    {
     "name": "stdout",
     "output_type": "stream",
     "text": [
      "67/67 [==============================] - 75s 356ms/step - loss: 0.0860 - accuracy: 0.9823\n"
     ]
    }
   ],
   "source": [
    "scores = model.evaluate(test_ds)"
   ]
  },
  {
   "cell_type": "code",
   "execution_count": 25,
   "id": "51d619d9",
   "metadata": {
    "scrolled": true
   },
   "outputs": [
    {
     "name": "stdout",
     "output_type": "stream",
     "text": [
      "INFO:tensorflow:Assets written to: C:/Users/ASUS/Documents/models/3\\assets\n"
     ]
    }
   ],
   "source": [
    "import os\n",
    "model.save(f\"C:/Users/ASUS/Documents/models/3\")"
   ]
  },
  {
   "cell_type": "code",
   "execution_count": null,
   "id": "32e17034",
   "metadata": {},
   "outputs": [],
   "source": []
  }
 ],
 "metadata": {
  "kernelspec": {
   "display_name": "Python 3 (ipykernel)",
   "language": "python",
   "name": "python3"
  },
  "language_info": {
   "codemirror_mode": {
    "name": "ipython",
    "version": 3
   },
   "file_extension": ".py",
   "mimetype": "text/x-python",
   "name": "python",
   "nbconvert_exporter": "python",
   "pygments_lexer": "ipython3",
   "version": "3.9.13"
  }
 },
 "nbformat": 4,
 "nbformat_minor": 5
}
